{
 "cells": [
  {
   "cell_type": "code",
   "execution_count": 592,
   "metadata": {},
   "outputs": [],
   "source": [
    "import pandas as pd\n",
    "import numpy as np"
   ]
  },
  {
   "cell_type": "code",
   "execution_count": 593,
   "metadata": {},
   "outputs": [],
   "source": [
    "becarios = pd.read_csv(\"test_data.csv\")"
   ]
  },
  {
   "cell_type": "code",
   "execution_count": 594,
   "metadata": {},
   "outputs": [],
   "source": [
    "becarios['NOMBRE'] = becarios['NOMBRE'].astype(str)\n",
    "becarios['Editar'] = [[] for _ in range(len(becarios.index))]"
   ]
  },
  {
   "cell_type": "code",
   "execution_count": null,
   "metadata": {},
   "outputs": [],
   "source": [
    "percent_essays_buddy = 0.0\n",
    "percent_essays_group = 0.0\n",
    "percent_essays_everyone = 100 - percent_essays_buddy - percent_essays_group\n",
    "\n",
    "percent_essays_buddy /= 100\n",
    "percent_essays_group /= 100\n",
    "percent_essays_everyone /= 100\n",
    "\n",
    "def numero_ensayos(ensayos, porcentaje):\n",
    "    return int(np.ceil(ensayos*porcentaje))\n",
    "\n",
    "def ensayo_asignado(escritor, editor):\n",
    "    becarios.at[escritor, 'Ensayos Personales'] = becarios.at[escritor, 'Ensayos Personales'] -1\n",
    "    becarios.at[editor, 'Ensayos a Editar'] = becarios.at[editor, 'Ensayos a Editar'] -1\n",
    "    \n",
    "def get_ensayos_a_editar(editor):\n",
    "    return becarios.at[becarios.index.get_loc(editor.name),'Ensayos a Editar']\n",
    "    "
   ]
  },
  {
   "cell_type": "code",
   "execution_count": 596,
   "metadata": {},
   "outputs": [],
   "source": [
    "for index, row in becarios.iterrows():\n",
    "    buddy = becarios[(becarios['Area']==row['Area']) & (becarios['NOMBRE'] != row['NOMBRE'])].sample(n=1).iloc[0]\n",
    "    row['Editar'].append(buddy['NOMBRE'])\n",
    "    ensayo_asignado(becarios.index.get_loc(row.name), becarios.index.get_loc(buddy.name))\n",
    "    ensayos_buddy = numero_ensayos(row['Ensayos Personales'],percent_essays_buddy)\n",
    "    for i in range(ensayos_buddy):\n",
    "        if get_ensayos_a_editar(buddy) > 0:\n",
    "            row['Editar'].append(buddy['NOMBRE'])\n",
    "            ensayo_asignado(becarios.index.get_loc(row.name), becarios.index.get_loc(buddy.name))"
   ]
  },
  {
   "cell_type": "code",
   "execution_count": 597,
   "metadata": {},
   "outputs": [],
   "source": [
    "for index, row in becarios.iterrows():\n",
    "    ensayos_misma_area = numero_ensayos(row['Ensayos Personales'],percent_essays_group)\n",
    "    misma_area = becarios[(becarios['Area']==row['Area']) & (becarios['NOMBRE'] != row['Editar'][-1]) &(becarios['NOMBRE'] != row['NOMBRE'])].sample(n=ensayos_misma_area,replace=True)\n",
    "    for i in range(ensayos_misma_area):\n",
    "        if get_ensayos_a_editar(misma_area.iloc[i]) > 0:\n",
    "            row['Editar'].append(misma_area.iloc[i]['NOMBRE'])\n",
    "            ensayo_asignado(becarios.index.get_loc(row.name), becarios.index.get_loc(misma_area.iloc[i].name))"
   ]
  },
  {
   "cell_type": "code",
   "execution_count": 598,
   "metadata": {},
   "outputs": [],
   "source": [
    "for index, row in becarios.iterrows():\n",
    "    ensayos_otra_area = numero_ensayos(row['Ensayos Personales'],percent_essays_everyone)\n",
    "    otra_area = becarios[(becarios['Area']!=row['Area'])].sample(n=ensayos_otra_area,replace=True)\n",
    "    for i in range(int(ensayos_otra_area)):\n",
    "        if get_ensayos_a_editar(otra_area.iloc[i]) > 0:\n",
    "            row['Editar'].append(otra_area.iloc[i]['NOMBRE'])\n",
    "            ensayo_asignado(becarios.index.get_loc(row.name), becarios.index.get_loc(otra_area.iloc[i].name))"
   ]
  },
  {
   "cell_type": "code",
   "execution_count": 599,
   "metadata": {},
   "outputs": [
    {
     "name": "stdout",
     "output_type": "stream",
     "text": [
      "    No. Participante                NOMBRE  Area  Ensayos Personales  \\\n",
      "0                  1         Michelle Davo  ARTE                   0   \n",
      "1                  2   Andres García Rubio  STEM                   0   \n",
      "2                  3      Alicia Hernández   HUM                   0   \n",
      "3                  4            Nora Muñiz  ARTE                   0   \n",
      "4                  5        Abraham Hawley   HUM                   0   \n",
      "5                  6         Eduardo Ochoa  STEM                   0   \n",
      "6                  7         Ivana Collado  STEM                   0   \n",
      "7                  8          José Múzquiz  ARTE                   0   \n",
      "8                  9          Juan Salazar   HUM                   1   \n",
      "9                 10      Quetzali Ramírez   HUM                   1   \n",
      "10                11        Andrés Galicia  STEM                   1   \n",
      "11                12      Ana Paula Bonner   HUM                   1   \n",
      "12                13       Ana Lucía Merla  ARTE                   0   \n",
      "13                14    Francisco Rentería  STEM                   2   \n",
      "14                15  José De Sancristóbal  ARTE                   3   \n",
      "\n",
      "    Ensayos a Editar                                             Editar  \n",
      "0                  2  [Nora Muñiz, Eduardo Ochoa, Ivana Collado, And...  \n",
      "1                  0    [Andrés Galicia, Ana Lucía Merla, Juan Salazar]  \n",
      "2                  3  [Quetzali Ramírez, José Múzquiz, Andres García...  \n",
      "3                  0  [José Múzquiz, Francisco Rentería, Francisco R...  \n",
      "4                  5  [Ana Paula Bonner, Andres García Rubio, Andres...  \n",
      "5                  0  [Ivana Collado, Nora Muñiz, Ana Lucía Merla, J...  \n",
      "6                  1  [Andres García Rubio, Quetzali Ramírez, Michel...  \n",
      "7                  0  [Nora Muñiz, Andrés Galicia, Quetzali Ramírez,...  \n",
      "8                  5  [Ana Paula Bonner, Francisco Rentería, Eduardo...  \n",
      "9                  1  [Abraham Hawley, Andrés Galicia, Francisco Ren...  \n",
      "10                 0  [Eduardo Ochoa, Ana Paula Bonner, Ana Lucía Me...  \n",
      "11                 0  [Quetzali Ramírez, Ivana Collado, José De Sanc...  \n",
      "12                 1  [José Múzquiz, Francisco Rentería, Abraham Haw...  \n",
      "13                 0  [Andrés Galicia, Ana Lucía Merla, Ana Lucía Me...  \n",
      "14                 4  [Ana Lucía Merla, Quetzali Ramírez, Andres Gar...  \n"
     ]
    }
   ],
   "source": [
    "print(becarios)"
   ]
  },
  {
   "cell_type": "code",
   "execution_count": null,
   "metadata": {},
   "outputs": [],
   "source": []
  },
  {
   "cell_type": "code",
   "execution_count": null,
   "metadata": {},
   "outputs": [],
   "source": []
  },
  {
   "cell_type": "code",
   "execution_count": null,
   "metadata": {},
   "outputs": [],
   "source": []
  }
 ],
 "metadata": {
  "kernelspec": {
   "display_name": "Python 3",
   "language": "python",
   "name": "python3"
  },
  "language_info": {
   "codemirror_mode": {
    "name": "ipython",
    "version": 3
   },
   "file_extension": ".py",
   "mimetype": "text/x-python",
   "name": "python",
   "nbconvert_exporter": "python",
   "pygments_lexer": "ipython3",
   "version": "3.7.3"
  }
 },
 "nbformat": 4,
 "nbformat_minor": 2
}
