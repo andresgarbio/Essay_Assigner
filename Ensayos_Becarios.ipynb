{
 "cells": [
  {
   "cell_type": "code",
   "execution_count": 600,
   "metadata": {},
   "outputs": [],
   "source": [
    "import pandas as pd\n",
    "import numpy as np"
   ]
  },
  {
   "cell_type": "code",
   "execution_count": 601,
   "metadata": {},
   "outputs": [],
   "source": [
    "becarios = pd.read_csv(\"test_data.csv\")"
   ]
  },
  {
   "cell_type": "code",
   "execution_count": 602,
   "metadata": {},
   "outputs": [],
   "source": [
    "becarios['NOMBRE'] = becarios['NOMBRE'].astype(str)\n",
    "becarios['Editar'] = [[] for _ in range(len(becarios.index))]"
   ]
  },
  {
   "cell_type": "code",
   "execution_count": 603,
   "metadata": {},
   "outputs": [],
   "source": [
    "percent_essays_buddy = 0.0\n",
    "percent_essays_group = 0.0\n",
    "percent_essays_everyone = 100 - percent_essays_buddy - percent_essays_group\n",
    "\n",
    "percent_essays_buddy /= 100\n",
    "percent_essays_group /= 100\n",
    "percent_essays_everyone /= 100\n",
    "\n",
    "def numero_ensayos(ensayos, porcentaje):\n",
    "    return int(np.ceil(ensayos*porcentaje))\n",
    "\n",
    "def ensayo_asignado(escritor, editor):\n",
    "    becarios.at[escritor, 'Ensayos Personales'] = becarios.at[escritor, 'Ensayos Personales'] -1\n",
    "    becarios.at[editor, 'Ensayos a Editar'] = becarios.at[editor, 'Ensayos a Editar'] -1\n",
    "    \n",
    "def get_ensayos_a_editar(editor):\n",
    "    return becarios.at[becarios.index.get_loc(editor.name),'Ensayos a Editar']\n",
    "    "
   ]
  },
  {
   "cell_type": "code",
   "execution_count": 604,
   "metadata": {},
   "outputs": [],
   "source": [
    "for index, row in becarios.iterrows():\n",
    "    buddy = becarios[(becarios['Area']==row['Area']) & (becarios['NOMBRE'] != row['NOMBRE'])].sample(n=1).iloc[0]\n",
    "    row['Editar'].append(buddy['NOMBRE'])\n",
    "    ensayo_asignado(becarios.index.get_loc(row.name), becarios.index.get_loc(buddy.name))\n",
    "    ensayos_buddy = numero_ensayos(row['Ensayos Personales'],percent_essays_buddy)\n",
    "    for i in range(ensayos_buddy):\n",
    "        if get_ensayos_a_editar(buddy) > 0:\n",
    "            row['Editar'].append(buddy['NOMBRE'])\n",
    "            ensayo_asignado(becarios.index.get_loc(row.name), becarios.index.get_loc(buddy.name))"
   ]
  },
  {
   "cell_type": "code",
   "execution_count": 605,
   "metadata": {},
   "outputs": [],
   "source": [
    "for index, row in becarios.iterrows():\n",
    "    ensayos_misma_area = numero_ensayos(row['Ensayos Personales'],percent_essays_group)\n",
    "    misma_area = becarios[(becarios['Area']==row['Area']) & (becarios['NOMBRE'] != row['Editar'][-1]) &(becarios['NOMBRE'] != row['NOMBRE'])].sample(n=ensayos_misma_area,replace=True)\n",
    "    for i in range(ensayos_misma_area):\n",
    "        if get_ensayos_a_editar(misma_area.iloc[i]) > 0:\n",
    "            row['Editar'].append(misma_area.iloc[i]['NOMBRE'])\n",
    "            ensayo_asignado(becarios.index.get_loc(row.name), becarios.index.get_loc(misma_area.iloc[i].name))"
   ]
  },
  {
   "cell_type": "code",
   "execution_count": 606,
   "metadata": {},
   "outputs": [],
   "source": [
    "for index, row in becarios.iterrows():\n",
    "    ensayos_otra_area = numero_ensayos(row['Ensayos Personales'],percent_essays_everyone)\n",
    "    otra_area = becarios[(becarios['Area']!=row['Area'])].sample(n=ensayos_otra_area,replace=True)\n",
    "    for i in range(int(ensayos_otra_area)):\n",
    "        if get_ensayos_a_editar(otra_area.iloc[i]) > 0:\n",
    "            row['Editar'].append(otra_area.iloc[i]['NOMBRE'])\n",
    "            ensayo_asignado(becarios.index.get_loc(row.name), becarios.index.get_loc(otra_area.iloc[i].name))"
   ]
  },
  {
   "cell_type": "code",
   "execution_count": null,
   "metadata": {},
   "outputs": [],
   "source": []
  },
  {
   "cell_type": "code",
   "execution_count": null,
   "metadata": {},
   "outputs": [],
   "source": []
  },
  {
   "cell_type": "code",
   "execution_count": null,
   "metadata": {},
   "outputs": [],
   "source": []
  },
  {
   "cell_type": "code",
   "execution_count": null,
   "metadata": {},
   "outputs": [],
   "source": []
  }
 ],
 "metadata": {
  "kernelspec": {
   "display_name": "Python 3",
   "language": "python",
   "name": "python3"
  },
  "language_info": {
   "codemirror_mode": {
    "name": "ipython",
    "version": 3
   },
   "file_extension": ".py",
   "mimetype": "text/x-python",
   "name": "python",
   "nbconvert_exporter": "python",
   "pygments_lexer": "ipython3",
   "version": "3.7.3"
  }
 },
 "nbformat": 4,
 "nbformat_minor": 2
}
